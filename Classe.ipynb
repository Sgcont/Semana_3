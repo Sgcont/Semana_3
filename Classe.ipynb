{
  "nbformat": 4,
  "nbformat_minor": 0,
  "metadata": {
    "colab": {
      "provenance": [],
      "authorship_tag": "ABX9TyOjMag+tDySzrW2tQi2+6xF",
      "include_colab_link": true
    },
    "kernelspec": {
      "name": "python3",
      "display_name": "Python 3"
    },
    "language_info": {
      "name": "python"
    }
  },
  "cells": [
    {
      "cell_type": "markdown",
      "metadata": {
        "id": "view-in-github",
        "colab_type": "text"
      },
      "source": [
        "<a href=\"https://colab.research.google.com/github/Sgcont/Semana_3/blob/main/Classe.ipynb\" target=\"_parent\"><img src=\"https://colab.research.google.com/assets/colab-badge.svg\" alt=\"Open In Colab\"/></a>"
      ]
    },
    {
      "cell_type": "code",
      "execution_count": null,
      "metadata": {
        "id": "oDy9zLlZh2ky"
      },
      "outputs": [],
      "source": [
        "class Pessoa:\n",
        "    def __init__(self, nome, idade, cpf):\n",
        "        self.nome = nome\n",
        "        self.idade = idade\n",
        "        self._cpf = cpf\n",
        "\n",
        "    def getNome(self):\n",
        "        return self.nome\n",
        "\n",
        "    def getIdade(self):\n",
        "        return self.idade\n",
        "\n",
        "    def getCpf(self):\n",
        "        return self._cpf\n",
        "\n",
        "class Aluno(Pessoa):\n",
        "    def __init__(self, nome, idade, cpf, matricula):\n",
        "        super().__init__(nome, idade, cpf)\n",
        "        self.matricula = matricula\n",
        "\n",
        "    def getMatricula(self):\n",
        "        return self.matricula\n",
        "\n",
        "    def getSalario(self):\n",
        "        return self.salario\n",
        "\n",
        "class Professor(Pessoa):\n",
        "    def __init__(self, nome, idade, cpf, salario):\n",
        "        super().__init__(nome, idade, cpf)\n",
        "        self.salario = salario\n",
        "\n",
        "    def getSalario(self):\n",
        "        return self.salario\n",
        "\n",
        "    def setSalario(self, salario):\n",
        "        self.salario = salario\n",
        "\n",
        "    def aumentoSalario(self, aumento):\n",
        "        self.salario += aumento\n",
        "        return self.salario\n",
        "\n",
        "class Curso:\n",
        "    def __init__(self, nome, cargaHoraria, preco):\n",
        "        self.nome = nome\n",
        "        self.cargaHoraria = cargaHoraria\n",
        "        self.preco = preco\n",
        "        self.alunos = []\n",
        "        self.professores = []\n",
        "    def adicionarAluno(self, aluno):\n",
        "        self.alunos.append(aluno)\n",
        "    def adicionarProfessor(self, professor):\n",
        "        self.professores.append(professor)"
      ]
    }
  ]
}